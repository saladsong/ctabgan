{
 "cells": [
  {
   "cell_type": "code",
   "execution_count": 1,
   "metadata": {},
   "outputs": [
    {
     "name": "stderr",
     "output_type": "stream",
     "text": [
      "/Users/lsw0504/code/synthe/synenv/lib/python3.10/site-packages/tqdm/auto.py:21: TqdmWarning: IProgress not found. Please update jupyter and ipywidgets. See https://ipywidgets.readthedocs.io/en/stable/user_install.html\n",
      "  from .autonotebook import tqdm as notebook_tqdm\n"
     ]
    }
   ],
   "source": [
    "from model.ctabgan import CTABGAN\n",
    "from model.eval.evaluation import get_utility_metrics,stat_sim,privacy_metrics\n",
    "import numpy as np\n",
    "import pandas as pd\n",
    "import glob"
   ]
  },
  {
   "cell_type": "code",
   "execution_count": 2,
   "metadata": {},
   "outputs": [],
   "source": [
    "num_exp = 1\n",
    "dataset = \"king\"\n",
    "real_path = \"Real_Datasets/king.csv\"\n",
    "fake_file_root = \"Fake_Datasets\""
   ]
  },
  {
   "cell_type": "code",
   "execution_count": 3,
   "metadata": {},
   "outputs": [
    {
     "ename": "ValueError",
     "evalue": "The least populated class in y has only 1 member, which is too few. The minimum number of groups for any class cannot be less than 2.",
     "output_type": "error",
     "traceback": [
      "\u001b[0;31m---------------------------------------------------------------------------\u001b[0m",
      "\u001b[0;31mValueError\u001b[0m                                Traceback (most recent call last)",
      "Cell \u001b[0;32mIn[3], line 12\u001b[0m\n\u001b[1;32m      1\u001b[0m synthesizer \u001b[39m=\u001b[39m  CTABGAN(raw_csv_path \u001b[39m=\u001b[39m real_path,\n\u001b[1;32m      2\u001b[0m                  test_ratio \u001b[39m=\u001b[39m \u001b[39m0.20\u001b[39m,\n\u001b[1;32m      3\u001b[0m                  categorical_columns \u001b[39m=\u001b[39m [\u001b[39m'\u001b[39m\u001b[39mbedrooms\u001b[39m\u001b[39m'\u001b[39m, \u001b[39m\"\u001b[39m\u001b[39mfloors\u001b[39m\u001b[39m\"\u001b[39m, \u001b[39m'\u001b[39m\u001b[39mwaterfront\u001b[39m\u001b[39m'\u001b[39m, \u001b[39m'\u001b[39m\u001b[39mview\u001b[39m\u001b[39m'\u001b[39m, \u001b[39m'\u001b[39m\u001b[39mcondition\u001b[39m\u001b[39m'\u001b[39m, \u001b[39m'\u001b[39m\u001b[39mgrade\u001b[39m\u001b[39m'\u001b[39m,\u001b[39m'\u001b[39m\u001b[39mzipcode\u001b[39m\u001b[39m'\u001b[39m],   \n\u001b[0;32m   (...)\u001b[0m\n\u001b[1;32m      8\u001b[0m                  integer_columns \u001b[39m=\u001b[39m [],\n\u001b[1;32m      9\u001b[0m                  problem_type\u001b[39m=\u001b[39m {\u001b[39m\"\u001b[39m\u001b[39mRegression\u001b[39m\u001b[39m\"\u001b[39m: \u001b[39m\"\u001b[39m\u001b[39mprice\u001b[39m\u001b[39m\"\u001b[39m}) \n\u001b[1;32m     11\u001b[0m \u001b[39mfor\u001b[39;00m i \u001b[39min\u001b[39;00m \u001b[39mrange\u001b[39m(num_exp):\n\u001b[0;32m---> 12\u001b[0m     synthesizer\u001b[39m.\u001b[39;49mfit()\n",
      "File \u001b[0;32m~/code/synthe/CTAB-GAN-Plus/model/ctabgan.py:64\u001b[0m, in \u001b[0;36mCTABGAN.fit\u001b[0;34m(self)\u001b[0m\n\u001b[1;32m     62\u001b[0m \u001b[39mself\u001b[39m\u001b[39m.\u001b[39mlogger\u001b[39m.\u001b[39minfo(\u001b[39m\"\u001b[39m\u001b[39m[CTABGAN]: data preprocessor ready start\u001b[39m\u001b[39m\"\u001b[39m)\n\u001b[1;32m     63\u001b[0m \u001b[39m# DataPrep: 데이터 전처리\u001b[39;00m\n\u001b[0;32m---> 64\u001b[0m \u001b[39mself\u001b[39m\u001b[39m.\u001b[39mdata_prep \u001b[39m=\u001b[39m DataPrep(\n\u001b[1;32m     65\u001b[0m     \u001b[39mself\u001b[39;49m\u001b[39m.\u001b[39;49mraw_df,\n\u001b[1;32m     66\u001b[0m     \u001b[39mself\u001b[39;49m\u001b[39m.\u001b[39;49mcategorical_columns,\n\u001b[1;32m     67\u001b[0m     \u001b[39mself\u001b[39;49m\u001b[39m.\u001b[39;49mlog_columns,\n\u001b[1;32m     68\u001b[0m     \u001b[39mself\u001b[39;49m\u001b[39m.\u001b[39;49mmixed_columns,\n\u001b[1;32m     69\u001b[0m     \u001b[39mself\u001b[39;49m\u001b[39m.\u001b[39;49mgeneral_columns,\n\u001b[1;32m     70\u001b[0m     \u001b[39mself\u001b[39;49m\u001b[39m.\u001b[39;49mnon_categorical_columns,\n\u001b[1;32m     71\u001b[0m     \u001b[39mself\u001b[39;49m\u001b[39m.\u001b[39;49minteger_columns,\n\u001b[1;32m     72\u001b[0m     \u001b[39mself\u001b[39;49m\u001b[39m.\u001b[39;49mproblem_type,\n\u001b[1;32m     73\u001b[0m     \u001b[39mself\u001b[39;49m\u001b[39m.\u001b[39;49mtest_ratio,\n\u001b[1;32m     74\u001b[0m )\n\u001b[1;32m     75\u001b[0m \u001b[39mself\u001b[39m\u001b[39m.\u001b[39mlogger\u001b[39m.\u001b[39minfo(\u001b[39m\"\u001b[39m\u001b[39m[CTABGAN]: data preprocessor ready end\u001b[39m\u001b[39m\"\u001b[39m)\n\u001b[1;32m     76\u001b[0m \u001b[39mself\u001b[39m\u001b[39m.\u001b[39mlogger\u001b[39m.\u001b[39minfo(\u001b[39m\"\u001b[39m\u001b[39m[CTABGAN]: synthesizer fit start\u001b[39m\u001b[39m\"\u001b[39m)\n",
      "File \u001b[0;32m~/code/synthe/CTAB-GAN-Plus/model/pipeline/data_preparation.py:45\u001b[0m, in \u001b[0;36mDataPrep.__init__\u001b[0;34m(self, raw_df, categorical, log, mixed, general, non_categorical, integer, ptype, test_ratio)\u001b[0m\n\u001b[1;32m     43\u001b[0m X_real \u001b[39m=\u001b[39m raw_df\u001b[39m.\u001b[39mdrop(columns\u001b[39m=\u001b[39m[target_col])\n\u001b[1;32m     44\u001b[0m \u001b[39m# lsw: 이거 왜 필요????\u001b[39;00m\n\u001b[0;32m---> 45\u001b[0m X_train_real, _, y_train_real, _ \u001b[39m=\u001b[39m model_selection\u001b[39m.\u001b[39;49mtrain_test_split(\n\u001b[1;32m     46\u001b[0m     X_real, y_real, test_size\u001b[39m=\u001b[39;49mtest_ratio, stratify\u001b[39m=\u001b[39;49my_real, random_state\u001b[39m=\u001b[39;49m\u001b[39m42\u001b[39;49m\n\u001b[1;32m     47\u001b[0m )\n\u001b[1;32m     49\u001b[0m X_train_real[target_col] \u001b[39m=\u001b[39m y_train_real\n\u001b[1;32m     51\u001b[0m \u001b[39mself\u001b[39m\u001b[39m.\u001b[39mdf \u001b[39m=\u001b[39m X_train_real\n",
      "File \u001b[0;32m~/code/synthe/synenv/lib/python3.10/site-packages/sklearn/utils/_param_validation.py:211\u001b[0m, in \u001b[0;36mvalidate_params.<locals>.decorator.<locals>.wrapper\u001b[0;34m(*args, **kwargs)\u001b[0m\n\u001b[1;32m    205\u001b[0m \u001b[39mtry\u001b[39;00m:\n\u001b[1;32m    206\u001b[0m     \u001b[39mwith\u001b[39;00m config_context(\n\u001b[1;32m    207\u001b[0m         skip_parameter_validation\u001b[39m=\u001b[39m(\n\u001b[1;32m    208\u001b[0m             prefer_skip_nested_validation \u001b[39mor\u001b[39;00m global_skip_validation\n\u001b[1;32m    209\u001b[0m         )\n\u001b[1;32m    210\u001b[0m     ):\n\u001b[0;32m--> 211\u001b[0m         \u001b[39mreturn\u001b[39;00m func(\u001b[39m*\u001b[39;49margs, \u001b[39m*\u001b[39;49m\u001b[39m*\u001b[39;49mkwargs)\n\u001b[1;32m    212\u001b[0m \u001b[39mexcept\u001b[39;00m InvalidParameterError \u001b[39mas\u001b[39;00m e:\n\u001b[1;32m    213\u001b[0m     \u001b[39m# When the function is just a wrapper around an estimator, we allow\u001b[39;00m\n\u001b[1;32m    214\u001b[0m     \u001b[39m# the function to delegate validation to the estimator, but we replace\u001b[39;00m\n\u001b[1;32m    215\u001b[0m     \u001b[39m# the name of the estimator by the name of the function in the error\u001b[39;00m\n\u001b[1;32m    216\u001b[0m     \u001b[39m# message to avoid confusion.\u001b[39;00m\n\u001b[1;32m    217\u001b[0m     msg \u001b[39m=\u001b[39m re\u001b[39m.\u001b[39msub(\n\u001b[1;32m    218\u001b[0m         \u001b[39mr\u001b[39m\u001b[39m\"\u001b[39m\u001b[39mparameter of \u001b[39m\u001b[39m\\\u001b[39m\u001b[39mw+ must be\u001b[39m\u001b[39m\"\u001b[39m,\n\u001b[1;32m    219\u001b[0m         \u001b[39mf\u001b[39m\u001b[39m\"\u001b[39m\u001b[39mparameter of \u001b[39m\u001b[39m{\u001b[39;00mfunc\u001b[39m.\u001b[39m\u001b[39m__qualname__\u001b[39m\u001b[39m}\u001b[39;00m\u001b[39m must be\u001b[39m\u001b[39m\"\u001b[39m,\n\u001b[1;32m    220\u001b[0m         \u001b[39mstr\u001b[39m(e),\n\u001b[1;32m    221\u001b[0m     )\n",
      "File \u001b[0;32m~/code/synthe/synenv/lib/python3.10/site-packages/sklearn/model_selection/_split.py:2638\u001b[0m, in \u001b[0;36mtrain_test_split\u001b[0;34m(test_size, train_size, random_state, shuffle, stratify, *arrays)\u001b[0m\n\u001b[1;32m   2634\u001b[0m         CVClass \u001b[39m=\u001b[39m ShuffleSplit\n\u001b[1;32m   2636\u001b[0m     cv \u001b[39m=\u001b[39m CVClass(test_size\u001b[39m=\u001b[39mn_test, train_size\u001b[39m=\u001b[39mn_train, random_state\u001b[39m=\u001b[39mrandom_state)\n\u001b[0;32m-> 2638\u001b[0m     train, test \u001b[39m=\u001b[39m \u001b[39mnext\u001b[39;49m(cv\u001b[39m.\u001b[39;49msplit(X\u001b[39m=\u001b[39;49marrays[\u001b[39m0\u001b[39;49m], y\u001b[39m=\u001b[39;49mstratify))\n\u001b[1;32m   2640\u001b[0m \u001b[39mreturn\u001b[39;00m \u001b[39mlist\u001b[39m(\n\u001b[1;32m   2641\u001b[0m     chain\u001b[39m.\u001b[39mfrom_iterable(\n\u001b[1;32m   2642\u001b[0m         (_safe_indexing(a, train), _safe_indexing(a, test)) \u001b[39mfor\u001b[39;00m a \u001b[39min\u001b[39;00m arrays\n\u001b[1;32m   2643\u001b[0m     )\n\u001b[1;32m   2644\u001b[0m )\n",
      "File \u001b[0;32m~/code/synthe/synenv/lib/python3.10/site-packages/sklearn/model_selection/_split.py:1726\u001b[0m, in \u001b[0;36mBaseShuffleSplit.split\u001b[0;34m(self, X, y, groups)\u001b[0m\n\u001b[1;32m   1696\u001b[0m \u001b[39m\u001b[39m\u001b[39m\"\"\"Generate indices to split data into training and test set.\u001b[39;00m\n\u001b[1;32m   1697\u001b[0m \n\u001b[1;32m   1698\u001b[0m \u001b[39mParameters\u001b[39;00m\n\u001b[0;32m   (...)\u001b[0m\n\u001b[1;32m   1723\u001b[0m \u001b[39mto an integer.\u001b[39;00m\n\u001b[1;32m   1724\u001b[0m \u001b[39m\"\"\"\u001b[39;00m\n\u001b[1;32m   1725\u001b[0m X, y, groups \u001b[39m=\u001b[39m indexable(X, y, groups)\n\u001b[0;32m-> 1726\u001b[0m \u001b[39mfor\u001b[39;00m train, test \u001b[39min\u001b[39;00m \u001b[39mself\u001b[39m\u001b[39m.\u001b[39m_iter_indices(X, y, groups):\n\u001b[1;32m   1727\u001b[0m     \u001b[39myield\u001b[39;00m train, test\n",
      "File \u001b[0;32m~/code/synthe/synenv/lib/python3.10/site-packages/sklearn/model_selection/_split.py:2115\u001b[0m, in \u001b[0;36mStratifiedShuffleSplit._iter_indices\u001b[0;34m(self, X, y, groups)\u001b[0m\n\u001b[1;32m   2113\u001b[0m class_counts \u001b[39m=\u001b[39m np\u001b[39m.\u001b[39mbincount(y_indices)\n\u001b[1;32m   2114\u001b[0m \u001b[39mif\u001b[39;00m np\u001b[39m.\u001b[39mmin(class_counts) \u001b[39m<\u001b[39m \u001b[39m2\u001b[39m:\n\u001b[0;32m-> 2115\u001b[0m     \u001b[39mraise\u001b[39;00m \u001b[39mValueError\u001b[39;00m(\n\u001b[1;32m   2116\u001b[0m         \u001b[39m\"\u001b[39m\u001b[39mThe least populated class in y has only 1\u001b[39m\u001b[39m\"\u001b[39m\n\u001b[1;32m   2117\u001b[0m         \u001b[39m\"\u001b[39m\u001b[39m member, which is too few. The minimum\u001b[39m\u001b[39m\"\u001b[39m\n\u001b[1;32m   2118\u001b[0m         \u001b[39m\"\u001b[39m\u001b[39m number of groups for any class cannot\u001b[39m\u001b[39m\"\u001b[39m\n\u001b[1;32m   2119\u001b[0m         \u001b[39m\"\u001b[39m\u001b[39m be less than 2.\u001b[39m\u001b[39m\"\u001b[39m\n\u001b[1;32m   2120\u001b[0m     )\n\u001b[1;32m   2122\u001b[0m \u001b[39mif\u001b[39;00m n_train \u001b[39m<\u001b[39m n_classes:\n\u001b[1;32m   2123\u001b[0m     \u001b[39mraise\u001b[39;00m \u001b[39mValueError\u001b[39;00m(\n\u001b[1;32m   2124\u001b[0m         \u001b[39m\"\u001b[39m\u001b[39mThe train_size = \u001b[39m\u001b[39m%d\u001b[39;00m\u001b[39m should be greater or \u001b[39m\u001b[39m\"\u001b[39m\n\u001b[1;32m   2125\u001b[0m         \u001b[39m\"\u001b[39m\u001b[39mequal to the number of classes = \u001b[39m\u001b[39m%d\u001b[39;00m\u001b[39m\"\u001b[39m \u001b[39m%\u001b[39m (n_train, n_classes)\n\u001b[1;32m   2126\u001b[0m     )\n",
      "\u001b[0;31mValueError\u001b[0m: The least populated class in y has only 1 member, which is too few. The minimum number of groups for any class cannot be less than 2."
     ]
    }
   ],
   "source": [
    "synthesizer =  CTABGAN(raw_csv_path = real_path,\n",
    "                 test_ratio = 0.20,\n",
    "                 categorical_columns = ['bedrooms', \"floors\", 'waterfront', 'view', 'condition', 'grade','zipcode'],   \n",
    "                 log_columns = [],\n",
    "                 mixed_columns= {\"sqft_basement\":[0.0],  \"yr_renovated\":[0.0]},\n",
    "                 general_columns= [\"bathrooms\", \"sqft_living\", \"sqft_above\", \"yr_built\", \"long\", \"sqft_living15\"],\n",
    "                 non_categorical_columns= [],\n",
    "                 integer_columns = [],\n",
    "                 problem_type= {\"Regression\": \"price\"}) \n",
    "\n",
    "for i in range(num_exp):\n",
    "    synthesizer.fit()"
   ]
  },
  {
   "cell_type": "code",
   "execution_count": 6,
   "metadata": {},
   "outputs": [
    {
     "name": "stdout",
     "output_type": "stream",
     "text": [
      "generated result length:  (22396, 20)\n",
      "generated result length:  (21941, 20)\n",
      "generated result length:  (22424, 20)\n"
     ]
    }
   ],
   "source": [
    "for i in range(3):\n",
    "    syn = synthesizer.generate_samples()\n",
    "    syn.to_csv(fake_file_root+\"/\"+dataset+\"/\"+ dataset+\"_fake_{exp}_ctabplus.csv\".format(exp=i), index= False)"
   ]
  },
  {
   "cell_type": "code",
   "execution_count": 8,
   "metadata": {},
   "outputs": [],
   "source": [
    "fake_paths = glob.glob(fake_file_root+\"/\"+dataset+\"/\"+\"*\")"
   ]
  },
  {
   "cell_type": "code",
   "execution_count": 9,
   "metadata": {},
   "outputs": [
    {
     "data": {
      "text/html": [
       "<div>\n",
       "<style scoped>\n",
       "    .dataframe tbody tr th:only-of-type {\n",
       "        vertical-align: middle;\n",
       "    }\n",
       "\n",
       "    .dataframe tbody tr th {\n",
       "        vertical-align: top;\n",
       "    }\n",
       "\n",
       "    .dataframe thead th {\n",
       "        text-align: right;\n",
       "    }\n",
       "</style>\n",
       "<table border=\"1\" class=\"dataframe\">\n",
       "  <thead>\n",
       "    <tr style=\"text-align: right;\">\n",
       "      <th></th>\n",
       "      <th>Mean_Absolute_Percentage_Error</th>\n",
       "      <th>Explained_Varaince_Score</th>\n",
       "      <th>R2_Score</th>\n",
       "    </tr>\n",
       "  </thead>\n",
       "  <tbody>\n",
       "    <tr>\n",
       "      <th>l_reg</th>\n",
       "      <td>0.015166</td>\n",
       "      <td>0.020321</td>\n",
       "      <td>0.037300</td>\n",
       "    </tr>\n",
       "    <tr>\n",
       "      <th>ridge</th>\n",
       "      <td>0.015466</td>\n",
       "      <td>0.021220</td>\n",
       "      <td>0.037621</td>\n",
       "    </tr>\n",
       "    <tr>\n",
       "      <th>lasso</th>\n",
       "      <td>0.015587</td>\n",
       "      <td>0.020319</td>\n",
       "      <td>0.037342</td>\n",
       "    </tr>\n",
       "    <tr>\n",
       "      <th>B_ridge</th>\n",
       "      <td>0.015699</td>\n",
       "      <td>0.020517</td>\n",
       "      <td>0.037326</td>\n",
       "    </tr>\n",
       "  </tbody>\n",
       "</table>\n",
       "</div>"
      ],
      "text/plain": [
       "         Mean_Absolute_Percentage_Error  Explained_Varaince_Score  R2_Score\n",
       "l_reg                          0.015166                  0.020321  0.037300\n",
       "ridge                          0.015466                  0.021220  0.037621\n",
       "lasso                          0.015587                  0.020319  0.037342\n",
       "B_ridge                        0.015699                  0.020517  0.037326"
      ]
     },
     "execution_count": 9,
     "metadata": {},
     "output_type": "execute_result"
    }
   ],
   "source": [
    "model_dict =  {\"Regression\":[\"l_reg\",\"ridge\",\"lasso\",\"B_ridge\"]}\n",
    "result_mat = get_utility_metrics(real_path,fake_paths,\"MinMax\",model_dict, test_ratio = 0.20)\n",
    "\n",
    "result_df  = pd.DataFrame(result_mat,columns=[\"Mean_Absolute_Percentage_Error\",\"Explained_Varaince_Score\",\"R2_Score\"])\n",
    "result_df.index = list(model_dict.values())[0]\n",
    "result_df"
   ]
  },
  {
   "cell_type": "code",
   "execution_count": 10,
   "metadata": {
    "scrolled": true
   },
   "outputs": [
    {
     "name": "stdout",
     "output_type": "stream",
     "text": [
      "column:  date WD:  0.021664532323824\n",
      "column:  bedrooms JSD:  0.07406527406706762\n",
      "column:  bathrooms WD:  0.016980764394344122\n",
      "column:  sqft_living WD:  0.014219149021258948\n",
      "column:  sqft_lot WD:  0.0011990821509605576\n",
      "column:  floors JSD:  0.034618949536077644\n",
      "column:  waterfront JSD:  0.0270201447597129\n",
      "column:  view JSD:  0.037729996377866726\n",
      "column:  condition JSD:  0.033514058559008686\n",
      "column:  grade JSD:  0.08800911188988236\n",
      "column:  sqft_above WD:  0.011549294545643959\n",
      "column:  sqft_basement WD:  0.0034711576866429446\n",
      "column:  yr_built WD:  0.007681289252351483\n",
      "column:  yr_renovated WD:  0.014927505480426317\n",
      "column:  zipcode JSD:  0.16489880248868577\n",
      "column:  lat WD:  0.02657911382138573\n",
      "column:  long WD:  0.014846288664317359\n",
      "column:  sqft_living15 WD:  0.02384116692949852\n",
      "column:  sqft_lot15 WD:  0.00115209156828118\n",
      "column:  price WD:  0.0008783043460760184\n",
      "column:  date WD:  0.02141006038706135\n",
      "column:  bedrooms JSD:  0.07569138670242004\n",
      "column:  bathrooms WD:  0.01678559692891177\n",
      "column:  sqft_living WD:  0.014979525925159779\n",
      "column:  sqft_lot WD:  0.0011664170850039072\n",
      "column:  floors JSD:  0.03654728198374608\n",
      "column:  waterfront JSD:  0.020464207656207954\n",
      "column:  view JSD:  0.040816362838858394\n",
      "column:  condition JSD:  0.035183332417494446\n",
      "column:  grade JSD:  0.08696673135577843\n",
      "column:  sqft_above WD:  0.012501875456298285\n",
      "column:  sqft_basement WD:  0.003761600285300906\n",
      "column:  yr_built WD:  0.00806649383826523\n",
      "column:  yr_renovated WD:  0.018164870618668314\n",
      "column:  zipcode JSD:  0.16694222261460895\n",
      "column:  lat WD:  0.025629625625395756\n",
      "column:  long WD:  0.014964619775282637\n",
      "column:  sqft_living15 WD:  0.02667624328073824\n",
      "column:  sqft_lot15 WD:  0.001194582170178245\n",
      "column:  price WD:  0.001543254966241602\n",
      "column:  date WD:  0.016768849749361665\n",
      "column:  bedrooms JSD:  0.07394728136688862\n",
      "column:  bathrooms WD:  0.01685747757953248\n",
      "column:  sqft_living WD:  0.014279527261882504\n",
      "column:  sqft_lot WD:  0.001225406690313994\n",
      "column:  floors JSD:  0.0360415216300048\n",
      "column:  waterfront JSD:  0.023318888110351974\n",
      "column:  view JSD:  0.038700778344640495\n",
      "column:  condition JSD:  0.03967461203222369\n",
      "column:  grade JSD:  0.08771123067079749\n",
      "column:  sqft_above WD:  0.011720731634749832\n",
      "column:  sqft_basement WD:  0.0031042028228331\n",
      "column:  yr_built WD:  0.008152403614914294\n",
      "column:  yr_renovated WD:  0.01744011470254415\n",
      "column:  zipcode JSD:  0.1650940637027077\n",
      "column:  lat WD:  0.027177270747521052\n",
      "column:  long WD:  0.01535659938432841\n",
      "column:  sqft_living15 WD:  0.02421022553992729\n",
      "column:  sqft_lot15 WD:  0.0011171336385851815\n",
      "column:  price WD:  0.0009091761592958667\n"
     ]
    },
    {
     "data": {
      "text/html": [
       "<div>\n",
       "<style scoped>\n",
       "    .dataframe tbody tr th:only-of-type {\n",
       "        vertical-align: middle;\n",
       "    }\n",
       "\n",
       "    .dataframe tbody tr th {\n",
       "        vertical-align: top;\n",
       "    }\n",
       "\n",
       "    .dataframe thead th {\n",
       "        text-align: right;\n",
       "    }\n",
       "</style>\n",
       "<table border=\"1\" class=\"dataframe\">\n",
       "  <thead>\n",
       "    <tr style=\"text-align: right;\">\n",
       "      <th></th>\n",
       "      <th>Average WD (Continuous Columns</th>\n",
       "      <th>Average JSD (Categorical Columns)</th>\n",
       "      <th>Correlation Distance</th>\n",
       "    </tr>\n",
       "  </thead>\n",
       "  <tbody>\n",
       "    <tr>\n",
       "      <th>0</th>\n",
       "      <td>0.012414</td>\n",
       "      <td>0.066046</td>\n",
       "      <td>0.930768</td>\n",
       "    </tr>\n",
       "  </tbody>\n",
       "</table>\n",
       "</div>"
      ],
      "text/plain": [
       "   Average WD (Continuous Columns  Average JSD (Categorical Columns)  \\\n",
       "0                        0.012414                           0.066046   \n",
       "\n",
       "   Correlation Distance  \n",
       "0              0.930768  "
      ]
     },
     "execution_count": 10,
     "metadata": {},
     "output_type": "execute_result"
    }
   ],
   "source": [
    "# ctabplus\n",
    "insurance_categorical = ['bedrooms', \"floors\", 'waterfront', 'view', 'condition', 'grade','zipcode']\n",
    "stat_res_avg = []\n",
    "for fake_path in fake_paths:\n",
    "    stat_res = stat_sim(real_path,fake_path,insurance_categorical)\n",
    "    stat_res_avg.append(stat_res)\n",
    "\n",
    "stat_columns = [\"Average WD (Continuous Columns\",\"Average JSD (Categorical Columns)\",\"Correlation Distance\"]\n",
    "stat_results = pd.DataFrame(np.array(stat_res_avg).mean(axis=0).reshape(1,3),columns=stat_columns)\n",
    "stat_results"
   ]
  },
  {
   "cell_type": "code",
   "execution_count": null,
   "metadata": {},
   "outputs": [],
   "source": []
  }
 ],
 "metadata": {
  "interpreter": {
   "hash": "5bbd4e8a0020626d1955d6e7d647b883363040a056d10513dec12a340be08610"
  },
  "kernelspec": {
   "display_name": "Python 3",
   "language": "python",
   "name": "python3"
  },
  "language_info": {
   "codemirror_mode": {
    "name": "ipython",
    "version": 3
   },
   "file_extension": ".py",
   "mimetype": "text/x-python",
   "name": "python",
   "nbconvert_exporter": "python",
   "pygments_lexer": "ipython3",
   "version": "3.10.12"
  }
 },
 "nbformat": 4,
 "nbformat_minor": 2
}
